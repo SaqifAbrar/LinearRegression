{
 "cells": [
  {
   "cell_type": "markdown",
   "metadata": {},
   "source": [
    "# Linear Regression Method in Python"
   ]
  },
  {
   "cell_type": "markdown",
   "metadata": {},
   "source": [
    "## Input"
   ]
  },
  {
   "cell_type": "markdown",
   "metadata": {},
   "source": [
    "### Importing Libraries\n",
    "Here we are importing numpy which is a very useful and core library to perform scientific calculations. We are also importing pandas which is a very popular library used in data science, however we will not be performing linear regression using functions from this library and will only use pandas to organize our data. Finally, we will be using matplotlib's pyplot to plot our regression line and observations."
   ]
  },
  {
   "cell_type": "code",
   "execution_count": 22,
   "metadata": {},
   "outputs": [],
   "source": [
    "import pandas as pd\n",
    "import numpy as np\n",
    "import matplotlib.pyplot as plt"
   ]
  },
  {
   "cell_type": "markdown",
   "metadata": {},
   "source": [
    "### Input collection\n",
    "Using pandas, we can sort through the observations from our CSV file. All values are seperated by a semi-colon in the file. Our output is the first 5 observations and all the categories of data."
   ]
  },
  {
   "cell_type": "code",
   "execution_count": 23,
   "metadata": {
    "scrolled": false
   },
   "outputs": [
    {
     "name": "stdout",
     "output_type": "stream",
     "text": [
      "  school sex  age address famsize Pstatus  Medu  Fedu     Mjob      Fjob  ...  \\\n",
      "0     GP   F   18       U     GT3       A     4     4  at_home   teacher  ...   \n",
      "1     GP   F   17       U     GT3       T     1     1  at_home     other  ...   \n",
      "2     GP   F   15       U     LE3       T     1     1  at_home     other  ...   \n",
      "3     GP   F   15       U     GT3       T     4     2   health  services  ...   \n",
      "4     GP   F   16       U     GT3       T     3     3    other     other  ...   \n",
      "\n",
      "  famrel freetime  goout  Dalc  Walc health absences  G1  G2  G3  \n",
      "0      4        3      4     1     1      3        6   5   6   6  \n",
      "1      5        3      3     1     1      3        4   5   5   6  \n",
      "2      4        3      2     2     3      3       10   7   8  10  \n",
      "3      3        2      2     1     1      5        2  15  14  15  \n",
      "4      4        3      2     1     2      5        4   6  10  10  \n",
      "\n",
      "[5 rows x 33 columns]\n",
      "Index(['school', 'sex', 'age', 'address', 'famsize', 'Pstatus', 'Medu', 'Fedu',\n",
      "       'Mjob', 'Fjob', 'reason', 'guardian', 'traveltime', 'studytime',\n",
      "       'failures', 'schoolsup', 'famsup', 'paid', 'activities', 'nursery',\n",
      "       'higher', 'internet', 'romantic', 'famrel', 'freetime', 'goout', 'Dalc',\n",
      "       'Walc', 'health', 'absences', 'G1', 'G2', 'G3'],\n",
      "      dtype='object')\n"
     ]
    }
   ],
   "source": [
    "observations = pd.read_csv(\"student-mat.csv\", sep=\";\")\n",
    "print(observations.head())\n",
    "print(observations.columns)"
   ]
  },
  {
   "cell_type": "markdown",
   "metadata": {},
   "source": [
    "### Input Organization\n",
    "Here we are taking specific values from our input and turning them into data types that are easy to manipulate and process using numpy. We will also be outputting the coordinates in a scatterplot to make sure our data is correctly organized and if it is suitable for linear regression. Clearly, as observed, it is! It meets all our advantages and requirements."
   ]
  },
  {
   "cell_type": "code",
   "execution_count": 24,
   "metadata": {},
   "outputs": [
    {
     "data": {
      "image/png": "[encoded data removed]",
      "text/plain": [
       "<Figure size 432x288 with 1 Axes>"
      ]
     },
     "metadata": {
      "needs_background": "light"
     },
     "output_type": "display_data"
    }
   ],
   "source": [
    "x_coords = np.array(observations[\"G1\"])\n",
    "y_coords = np.array(observations[\"G3\"])\n",
    "\n",
    "if len(x_coords) != len(y_coords):\n",
    "    print(\"coordinates unstable\")\n",
    "    exit()\n",
    "else:\n",
    "    plt.scatter(x_coords, y_coords)\n",
    "    plt.title(\"Scatter Plot of First Period Grades and Final Grades\")\n",
    "    plt.xlabel(\"First Period Grade\")\n",
    "    plt.ylabel(\"Final Grade\")\n",
    "    plt.show()"
   ]
  },
  {
   "cell_type": "markdown",
   "metadata": {},
   "source": [
    "## Processing"
   ]
  },
  {
   "cell_type": "markdown",
   "metadata": {},
   "source": [
    "### Mean Calculations\n",
    "Note that the 'statistics' python library could be used, but we defined a function here to calculate a simple mean for our coordinates."
   ]
  },
  {
   "cell_type": "code",
   "execution_count": 25,
   "metadata": {},
   "outputs": [
    {
     "name": "stdout",
     "output_type": "stream",
     "text": [
      "10.90886075949367 10.415189873417722\n"
     ]
    }
   ],
   "source": [
    "def mean(sample):\n",
    "    return sum(sample) / len(sample)\n",
    "\n",
    "x_mean = mean(x_coords)\n",
    "y_mean = mean(y_coords)\n",
    "\n",
    "print(x_mean, y_mean)"
   ]
  },
  {
   "attachments": {},
   "cell_type": "markdown",
   "metadata": {},
   "source": [
    "### b1 Calculations\n",
    "Here we are trying to calculate b1 which is the slope of the linear regression function using the least squares method."
   ]
  },
  {
   "cell_type": "code",
   "execution_count": 26,
   "metadata": {},
   "outputs": [
    {
     "name": "stdout",
     "output_type": "stream",
     "text": [
      "4801.946835443046 4340.71898734177\n"
     ]
    }
   ],
   "source": [
    "sum_xy_diffs = 0\n",
    "sum_x_diff_squares = 0\n",
    "\n",
    "for x, y in zip(x_coords, y_coords):\n",
    "    sum_xy_diffs += (x - x_mean) * (y - y_mean)\n",
    "    sum_x_diff_squares += (x - x_mean) ** 2\n",
    "\n",
    "b1 = sum_xy_diffs / sum_x_diff_squares\n",
    "\n",
    "print(sum_xy_diffs, sum_x_diff_squares)"
   ]
  },
  {
   "cell_type": "markdown",
   "metadata": {},
   "source": [
    "### b0 Calculations\n",
    "Using our solved b1, x & y means and simple algebra, we can solve for b0 after manipulating the linear equation."
   ]
  },
  {
   "cell_type": "code",
   "execution_count": 27,
   "metadata": {},
   "outputs": [
    {
     "name": "stdout",
     "output_type": "stream",
     "text": [
      "1.1062560947728453 -1.6528038288004812\n"
     ]
    }
   ],
   "source": [
    "b0 = y_mean - (b1 * x_mean)\n",
    "\n",
    "print(b1, b0)"
   ]
  },
  {
   "cell_type": "markdown",
   "metadata": {},
   "source": [
    "## Output"
   ]
  },
  {
   "cell_type": "markdown",
   "metadata": {},
   "source": [
    "### Graphing Linear Regression"
   ]
  },
  {
   "cell_type": "code",
   "execution_count": 28,
   "metadata": {},
   "outputs": [
    {
     "data": {
      "image/png": "[encoded data removed]",
      "text/plain": [
       "<Figure size 432x288 with 1 Axes>"
      ]
     },
     "metadata": {
      "needs_background": "light"
     },
     "output_type": "display_data"
    }
   ],
   "source": [
    "x = np.array(range(0, 20))\n",
    "y = b1*x + b0;\n",
    "plt.plot(x,y, label='y=b1*x + b0', c='orange')\n",
    "plt.scatter(x_coords, y_coords)\n",
    "plt.grid(alpha=.5,linestyle='--')\n",
    "plt.title(\"Regression Line Between First Period Grades and Final Grades\")\n",
    "plt.xlabel(\"Firt Period Grade\")\n",
    "plt.ylabel(\"Final Grade\")\n",
    "plt.legend()\n",
    "plt.show()"
   ]
  }
 ],
 "metadata": {
  "kernelspec": {
   "display_name": "Python 3",
   "language": "python",
   "name": "python3"
  },
  "language_info": {
   "codemirror_mode": {
    "name": "ipython",
    "version": 3
   },
   "file_extension": ".py",
   "mimetype": "text/x-python",
   "name": "python",
   "nbconvert_exporter": "python",
   "pygments_lexer": "ipython3",
   "version": "3.6.11"
  }
 },
 "nbformat": 4,
 "nbformat_minor": 4
}
